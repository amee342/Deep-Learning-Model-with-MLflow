{
 "cells": [
  {
   "cell_type": "markdown",
   "metadata": {},
   "source": [
    "## END-TO-END DEEP LEARNING CONSTRUCTION"
   ]
  },
  {
   "cell_type": "markdown",
   "metadata": {},
   "source": [
    "#### Outline: Compare runs, choose a model, and deploy it to a REST API\n",
    "\n",
    "In this starter, I will:\n",
    "\n",
    "- Run a hyperparameter sweep on a training script\n",
    "\n",
    "- Compare the results of the runs in the MLflow UI\n",
    "\n",
    "- Choose the best run and register it as a model\n",
    "\n",
    "- Deploy the model to a REST API\n",
    "\n",
    "- Build a container image suitable for deployment to a cloud platform"
   ]
  },
  {
   "cell_type": "code",
   "execution_count": null,
   "metadata": {},
   "outputs": [],
   "source": [
    "##"
   ]
  }
 ],
 "metadata": {
  "kernelspec": {
   "display_name": "Python 3",
   "language": "python",
   "name": "python3"
  },
  "language_info": {
   "name": "python",
   "version": "3.10.0"
  }
 },
 "nbformat": 4,
 "nbformat_minor": 2
}
